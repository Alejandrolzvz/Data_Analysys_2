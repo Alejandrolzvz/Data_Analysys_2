{
 "cells": [
  {
   "cell_type": "markdown",
   "metadata": {},
   "source": [
    "# Bayesian Networks"
   ]
  },
  {
   "cell_type": "markdown",
   "metadata": {},
   "source": [
    "### Importing Required Libraries"
   ]
  },
  {
   "cell_type": "code",
   "execution_count": 1,
   "metadata": {},
   "outputs": [],
   "source": [
    "## BNLearn: https://pypi.org/project/bnlearn/\n",
    "## Doc: https://erdogant.github.io/bnlearn/pages/html/Quickstart.html \n",
    "#  pip install bnlearn"
   ]
  },
  {
   "cell_type": "code",
   "execution_count": 1,
   "metadata": {},
   "outputs": [],
   "source": [
    "# Import library\n",
    "import bnlearn as bn"
   ]
  },
  {
   "cell_type": "markdown",
   "metadata": {},
   "source": [
    "### Structural learning"
   ]
  },
  {
   "cell_type": "code",
   "execution_count": 5,
   "metadata": {},
   "outputs": [
    {
     "name": "stdout",
     "output_type": "stream",
     "text": [
      "[bnlearn] >Checking CPDs..\n",
      "[bnlearn] >Check for DAG structure. Correct: True\n",
      "[bnlearn] >Plot based on BayesianModel\n"
     ]
    },
    {
     "data": {
      "image/png": "[encoded data removed]",
      "text/plain": [
       "<Figure size 1080x576 with 1 Axes>"
      ]
     },
     "metadata": {},
     "output_type": "display_data"
    },
    {
     "data": {
      "text/plain": [
       "{'pos': {'Cloudy': array([-0.08630406,  1.        ]),\n",
       "  'Sprinkler': array([0.9703092 , 0.01945256]),\n",
       "  'Rain': array([-0.9606873 , -0.17534661]),\n",
       "  'Wet_Grass': array([ 0.07668216, -0.84410595])},\n",
       " 'G': <networkx.classes.digraph.DiGraph at 0x7ff3c91b08e0>}"
      ]
     },
     "execution_count": 5,
     "metadata": {},
     "output_type": "execute_result"
    }
   ],
   "source": [
    "# Plot the ideal DAG\n",
    "model_ideal = bn.import_DAG('sprinkler')\n",
    "bn.plot(model_ideal)"
   ]
  },
  {
   "cell_type": "code",
   "execution_count": 6,
   "metadata": {},
   "outputs": [
    {
     "name": "stdout",
     "output_type": "stream",
     "text": [
      "[bnlearn] >Import dataset..\n"
     ]
    },
    {
     "data": {
      "text/html": [
       "<div>\n",
       "<style scoped>\n",
       "    .dataframe tbody tr th:only-of-type {\n",
       "        vertical-align: middle;\n",
       "    }\n",
       "\n",
       "    .dataframe tbody tr th {\n",
       "        vertical-align: top;\n",
       "    }\n",
       "\n",
       "    .dataframe thead th {\n",
       "        text-align: right;\n",
       "    }\n",
       "</style>\n",
       "<table border=\"1\" class=\"dataframe\">\n",
       "  <thead>\n",
       "    <tr style=\"text-align: right;\">\n",
       "      <th></th>\n",
       "      <th>Cloudy</th>\n",
       "      <th>Sprinkler</th>\n",
       "      <th>Rain</th>\n",
       "      <th>Wet_Grass</th>\n",
       "    </tr>\n",
       "  </thead>\n",
       "  <tbody>\n",
       "    <tr>\n",
       "      <th>0</th>\n",
       "      <td>0</td>\n",
       "      <td>0</td>\n",
       "      <td>0</td>\n",
       "      <td>0</td>\n",
       "    </tr>\n",
       "    <tr>\n",
       "      <th>1</th>\n",
       "      <td>1</td>\n",
       "      <td>0</td>\n",
       "      <td>1</td>\n",
       "      <td>1</td>\n",
       "    </tr>\n",
       "    <tr>\n",
       "      <th>2</th>\n",
       "      <td>0</td>\n",
       "      <td>1</td>\n",
       "      <td>0</td>\n",
       "      <td>1</td>\n",
       "    </tr>\n",
       "    <tr>\n",
       "      <th>3</th>\n",
       "      <td>1</td>\n",
       "      <td>1</td>\n",
       "      <td>1</td>\n",
       "      <td>1</td>\n",
       "    </tr>\n",
       "    <tr>\n",
       "      <th>4</th>\n",
       "      <td>1</td>\n",
       "      <td>1</td>\n",
       "      <td>1</td>\n",
       "      <td>1</td>\n",
       "    </tr>\n",
       "    <tr>\n",
       "      <th>...</th>\n",
       "      <td>...</td>\n",
       "      <td>...</td>\n",
       "      <td>...</td>\n",
       "      <td>...</td>\n",
       "    </tr>\n",
       "    <tr>\n",
       "      <th>995</th>\n",
       "      <td>1</td>\n",
       "      <td>0</td>\n",
       "      <td>1</td>\n",
       "      <td>1</td>\n",
       "    </tr>\n",
       "    <tr>\n",
       "      <th>996</th>\n",
       "      <td>1</td>\n",
       "      <td>0</td>\n",
       "      <td>1</td>\n",
       "      <td>1</td>\n",
       "    </tr>\n",
       "    <tr>\n",
       "      <th>997</th>\n",
       "      <td>1</td>\n",
       "      <td>0</td>\n",
       "      <td>1</td>\n",
       "      <td>1</td>\n",
       "    </tr>\n",
       "    <tr>\n",
       "      <th>998</th>\n",
       "      <td>0</td>\n",
       "      <td>0</td>\n",
       "      <td>0</td>\n",
       "      <td>0</td>\n",
       "    </tr>\n",
       "    <tr>\n",
       "      <th>999</th>\n",
       "      <td>0</td>\n",
       "      <td>1</td>\n",
       "      <td>1</td>\n",
       "      <td>1</td>\n",
       "    </tr>\n",
       "  </tbody>\n",
       "</table>\n",
       "<p>1000 rows × 4 columns</p>\n",
       "</div>"
      ],
      "text/plain": [
       "     Cloudy  Sprinkler  Rain  Wet_Grass\n",
       "0         0          0     0          0\n",
       "1         1          0     1          1\n",
       "2         0          1     0          1\n",
       "3         1          1     1          1\n",
       "4         1          1     1          1\n",
       "..      ...        ...   ...        ...\n",
       "995       1          0     1          1\n",
       "996       1          0     1          1\n",
       "997       1          0     1          1\n",
       "998       0          0     0          0\n",
       "999       0          1     1          1\n",
       "\n",
       "[1000 rows x 4 columns]"
      ]
     },
     "execution_count": 6,
     "metadata": {},
     "output_type": "execute_result"
    }
   ],
   "source": [
    "# Example dataframe sprinkler_data.csv can be loaded with: \n",
    "df = bn.import_example()\n",
    "# df = pd.read_csv('sprinkler_data.csv')\n",
    "df"
   ]
  },
  {
   "cell_type": "code",
   "execution_count": 7,
   "metadata": {},
   "outputs": [
    {
     "name": "stdout",
     "output_type": "stream",
     "text": [
      "[bnlearn] >Computing best DAG using [hc]\n",
      "[bnlearn] >Set scoring type at [bic]\n"
     ]
    }
   ],
   "source": [
    "# Structural learning\n",
    "model = bn.structure_learning.fit(df)\n"
   ]
  },
  {
   "cell_type": "code",
   "execution_count": 8,
   "metadata": {},
   "outputs": [
    {
     "name": "stdout",
     "output_type": "stream",
     "text": [
      "[bnlearn] >Plot based on BayesianModel\n"
     ]
    },
    {
     "data": {
      "image/png": "[encoded data removed]",
      "text/plain": [
       "<Figure size 1080x576 with 1 Axes>"
      ]
     },
     "metadata": {},
     "output_type": "display_data"
    }
   ],
   "source": [
    "# Plot the model\n",
    "G = bn.plot(model)"
   ]
  },
  {
   "cell_type": "code",
   "execution_count": 9,
   "metadata": {},
   "outputs": [
    {
     "name": "stdout",
     "output_type": "stream",
     "text": [
      "[bnlearn] >Existing coordinates from <pos> are used.\n"
     ]
    },
    {
     "data": {
      "image/png": "[encoded data removed]",
      "text/plain": [
       "<Figure size 432x288 with 2 Axes>"
      ]
     },
     "metadata": {
      "needs_background": "light"
     },
     "output_type": "display_data"
    },
    {
     "data": {
      "image/png": "[encoded data removed]",
      "text/plain": [
       "<Figure size 1080x576 with 1 Axes>"
      ]
     },
     "metadata": {},
     "output_type": "display_data"
    },
    {
     "data": {
      "text/plain": [
       "(array([[8, 4],\n",
       "        [3, 1]]),\n",
       " target     Cloudy  Sprinkler  Rain  Wet_Grass\n",
       " source                                       \n",
       " Cloudy          0         -1    -1          0\n",
       " Sprinkler       2          0     2          1\n",
       " Rain            2          0     0         -1\n",
       " Wet_Grass       0          0     2          0)"
      ]
     },
     "execution_count": 9,
     "metadata": {},
     "output_type": "execute_result"
    }
   ],
   "source": [
    "# Compare networks and make plot\n",
    "bn.compare_networks(model_ideal, model, pos=G['pos'])"
   ]
  },
  {
   "cell_type": "markdown",
   "metadata": {},
   "source": [
    "### Exercise:\n",
    " - Learn the structure using Hill Climbing, Exhaustive Search and the Chow-Liu algorihtm.\n",
    " - Use the criteria BIC, K2 and BDeu for Hill Climbing and Exhaustive search\n",
    " - Compare the resulting models with the ideal model and choose the most similar one."
   ]
  },
  {
   "cell_type": "code",
   "execution_count": 12,
   "metadata": {},
   "outputs": [
    {
     "name": "stdout",
     "output_type": "stream",
     "text": [
      "[bnlearn] >Computing best DAG using [hc]\n",
      "[bnlearn] >Set scoring type at [bic]\n",
      "[bnlearn] >Computing best DAG using [hc]\n",
      "[bnlearn] >Set scoring type at [k2]\n",
      "[bnlearn] >Computing best DAG using [hc]\n",
      "[bnlearn] >Set scoring type at [bdeu]\n"
     ]
    }
   ],
   "source": [
    "## Hill Climbing\n",
    "model_hc_bic  = bn.structure_learning.fit(df, methodtype='hc', scoretype='bic')\n",
    "model_hc_k2   = bn.structure_learning.fit(df, methodtype='hc', scoretype='k2')\n",
    "model_hc_bdeu = bn.structure_learning.fit(df, methodtype='hc', scoretype='bdeu')"
   ]
  },
  {
   "cell_type": "code",
   "execution_count": 13,
   "metadata": {},
   "outputs": [
    {
     "name": "stdout",
     "output_type": "stream",
     "text": [
      "[bnlearn] >Computing best DAG using [ex]\n",
      "[bnlearn] >Set scoring type at [bic]\n",
      "[bnlearn] >Computing best DAG using [ex]\n",
      "[bnlearn] >Set scoring type at [k2]\n",
      "[bnlearn] >Computing best DAG using [ex]\n",
      "[bnlearn] >Set scoring type at [bdeu]\n"
     ]
    }
   ],
   "source": [
    "## Exhaustive Search\n",
    "model_ex_bic  = bn.structure_learning.fit(df, methodtype='ex', scoretype='bic')\n",
    "model_ex_k2   = bn.structure_learning.fit(df, methodtype='ex', scoretype='k2')\n",
    "model_ex_bdeu = bn.structure_learning.fit(df, methodtype='ex', scoretype='bdeu')"
   ]
  },
  {
   "cell_type": "code",
   "execution_count": 14,
   "metadata": {},
   "outputs": [
    {
     "name": "stderr",
     "output_type": "stream",
     "text": [
      "Building tree: 100%|██████████| 6/6.0 [00:00<00:00, 1186.56it/s]"
     ]
    },
    {
     "name": "stdout",
     "output_type": "stream",
     "text": [
      "[bnlearn] >Computing best DAG using [cl]\n"
     ]
    },
    {
     "name": "stderr",
     "output_type": "stream",
     "text": [
      "\n"
     ]
    }
   ],
   "source": [
    "model_cl      = bn.structure_learning.fit(df, methodtype='cl', root_node='Wet_Grass')"
   ]
  },
  {
   "cell_type": "code",
   "execution_count": null,
   "metadata": {},
   "outputs": [],
   "source": [
    "### Compare these models with the ideal one...\n"
   ]
  },
  {
   "cell_type": "markdown",
   "metadata": {},
   "source": [
    "### Parametric learning"
   ]
  },
  {
   "cell_type": "code",
   "execution_count": 15,
   "metadata": {},
   "outputs": [
    {
     "name": "stdout",
     "output_type": "stream",
     "text": [
      "[bnlearn] >Import dataset..\n"
     ]
    }
   ],
   "source": [
    "# Import dataframe\n",
    "df = bn.import_example()"
   ]
  },
  {
   "cell_type": "code",
   "execution_count": 16,
   "metadata": {},
   "outputs": [],
   "source": [
    "# As an example we set the CPD at False which returns an \"empty\" DAG\n",
    "model = bn.import_DAG('sprinkler', CPD=False)"
   ]
  },
  {
   "cell_type": "code",
   "execution_count": 17,
   "metadata": {},
   "outputs": [
    {
     "name": "stdout",
     "output_type": "stream",
     "text": [
      "[BNLEARN][PARAMETER LEARNING] Computing parameters using [bayes]\n",
      "CPD of Cloudy:\n",
      "+-----------+-------+\n",
      "| Cloudy(0) | 0.494 |\n",
      "+-----------+-------+\n",
      "| Cloudy(1) | 0.506 |\n",
      "+-----------+-------+\n",
      "CPD of Sprinkler:\n",
      "+--------------+--------------------+--------------------+\n",
      "| Cloudy       | Cloudy(0)          | Cloudy(1)          |\n",
      "+--------------+--------------------+--------------------+\n",
      "| Sprinkler(0) | 0.4807692307692308 | 0.7075098814229249 |\n",
      "+--------------+--------------------+--------------------+\n",
      "| Sprinkler(1) | 0.5192307692307693 | 0.2924901185770751 |\n",
      "+--------------+--------------------+--------------------+\n",
      "CPD of Rain:\n",
      "+---------+--------------------+---------------------+\n",
      "| Cloudy  | Cloudy(0)          | Cloudy(1)           |\n",
      "+---------+--------------------+---------------------+\n",
      "| Rain(0) | 0.6518218623481782 | 0.33695652173913043 |\n",
      "+---------+--------------------+---------------------+\n",
      "| Rain(1) | 0.3481781376518219 | 0.6630434782608695  |\n",
      "+---------+--------------------+---------------------+\n",
      "CPD of Wet_Grass:\n",
      "+--------------+--------------------+---------------------+---------------------+---------------------+\n",
      "| Rain         | Rain(0)            | Rain(0)             | Rain(1)             | Rain(1)             |\n",
      "+--------------+--------------------+---------------------+---------------------+---------------------+\n",
      "| Sprinkler    | Sprinkler(0)       | Sprinkler(1)        | Sprinkler(0)        | Sprinkler(1)        |\n",
      "+--------------+--------------------+---------------------+---------------------+---------------------+\n",
      "| Wet_Grass(0) | 0.7553816046966731 | 0.33755274261603374 | 0.25588235294117645 | 0.37910447761194027 |\n",
      "+--------------+--------------------+---------------------+---------------------+---------------------+\n",
      "| Wet_Grass(1) | 0.2446183953033268 | 0.6624472573839663  | 0.7441176470588236  | 0.6208955223880597  |\n",
      "+--------------+--------------------+---------------------+---------------------+---------------------+\n"
     ]
    }
   ],
   "source": [
    "# Now we learn the parameters of the DAG using the df\n",
    "model_update = bn.parameter_learning.fit(model, df, methodtype='bayes')"
   ]
  },
  {
   "cell_type": "code",
   "execution_count": 18,
   "metadata": {},
   "outputs": [
    {
     "name": "stdout",
     "output_type": "stream",
     "text": [
      "[bnlearn] >Plot based on BayesianModel\n"
     ]
    },
    {
     "data": {
      "image/png": "[encoded data removed]",
      "text/plain": [
       "<Figure size 1080x576 with 1 Axes>"
      ]
     },
     "metadata": {},
     "output_type": "display_data"
    }
   ],
   "source": [
    "# Make plot\n",
    "G = bn.plot(model_update)"
   ]
  },
  {
   "cell_type": "code",
   "execution_count": 20,
   "metadata": {},
   "outputs": [
    {
     "name": "stdout",
     "output_type": "stream",
     "text": [
      "[BNLEARN][PARAMETER LEARNING] Computing parameters using [ml]\n",
      "+-----------+-------+\n",
      "| Cloudy(0) | 0.488 |\n",
      "+-----------+-------+\n",
      "| Cloudy(1) | 0.512 |\n",
      "+-----------+-------+\n",
      "+--------------+--------------------+------------+\n",
      "| Cloudy       | Cloudy(0)          | Cloudy(1)  |\n",
      "+--------------+--------------------+------------+\n",
      "| Sprinkler(0) | 0.4610655737704918 | 0.91015625 |\n",
      "+--------------+--------------------+------------+\n",
      "| Sprinkler(1) | 0.5389344262295082 | 0.08984375 |\n",
      "+--------------+--------------------+------------+\n",
      "+---------+---------------------+-------------+\n",
      "| Cloudy  | Cloudy(0)           | Cloudy(1)   |\n",
      "+---------+---------------------+-------------+\n",
      "| Rain(0) | 0.8073770491803278  | 0.177734375 |\n",
      "+---------+---------------------+-------------+\n",
      "| Rain(1) | 0.19262295081967212 | 0.822265625 |\n",
      "+---------+---------------------+-------------+\n",
      "+--------------+--------------+--------------+---------------------+----------------------+\n",
      "| Rain         | Rain(0)      | Rain(0)      | Rain(1)             | Rain(1)              |\n",
      "+--------------+--------------+--------------+---------------------+----------------------+\n",
      "| Sprinkler    | Sprinkler(0) | Sprinkler(1) | Sprinkler(0)        | Sprinkler(1)         |\n",
      "+--------------+--------------+--------------+---------------------+----------------------+\n",
      "| Wet_Grass(0) | 1.0          | 0.15625      | 0.11395348837209303 | 0.023529411764705882 |\n",
      "+--------------+--------------+--------------+---------------------+----------------------+\n",
      "| Wet_Grass(1) | 0.0          | 0.84375      | 0.8860465116279069  | 0.9764705882352941   |\n",
      "+--------------+--------------+--------------+---------------------+----------------------+\n"
     ]
    }
   ],
   "source": [
    "# As an example we set the CPD at False which returns an \"empty\" DAG\n",
    "model = bn.import_DAG('sprinkler', CPD=False)\n",
    "\n",
    "# Now we learn the parameters of the DAG using the Maximum Likelihood\n",
    "model_update = bn.parameter_learning.fit(model, df, methodtype='ml')"
   ]
  },
  {
   "cell_type": "markdown",
   "metadata": {},
   "source": [
    "### Inference"
   ]
  },
  {
   "cell_type": "code",
   "execution_count": 21,
   "metadata": {},
   "outputs": [
    {
     "name": "stderr",
     "output_type": "stream",
     "text": [
      "Finding Elimination Order: : : 0it [00:00, ?it/s]\n",
      "0it [00:00, ?it/s]"
     ]
    },
    {
     "name": "stdout",
     "output_type": "stream",
     "text": [
      "[bnlearn] >Checking CPDs..\n",
      "[bnlearn] >Check for DAG structure. Correct: True\n",
      "[bnlearn] >Variable Elimination..\n",
      "+---------+-------------+\n",
      "| Rain    |   phi(Rain) |\n",
      "+=========+=============+\n",
      "| Rain(0) |      0.0000 |\n",
      "+---------+-------------+\n",
      "| Rain(1) |      1.0000 |\n",
      "+---------+-------------+\n"
     ]
    },
    {
     "name": "stderr",
     "output_type": "stream",
     "text": [
      "\n"
     ]
    }
   ],
   "source": [
    "model = bn.import_DAG('sprinkler')\n",
    "q_1 = bn.inference.fit(model, variables=['Rain'], evidence={'Cloudy':1,'Sprinkler':0, 'Wet_Grass':1})"
   ]
  },
  {
   "cell_type": "code",
   "execution_count": 22,
   "metadata": {},
   "outputs": [
    {
     "name": "stderr",
     "output_type": "stream",
     "text": [
      "Finding Elimination Order: : 100%|██████████| 2/2 [00:00<00:00, 2013.59it/s]\n",
      "Eliminating: Wet_Grass: 100%|██████████| 2/2 [00:00<00:00, 959.69it/s]"
     ]
    },
    {
     "name": "stdout",
     "output_type": "stream",
     "text": [
      "[bnlearn] >Variable Elimination..\n",
      "+---------+-------------+\n",
      "| Rain    |   phi(Rain) |\n",
      "+=========+=============+\n",
      "| Rain(0) |      0.2000 |\n",
      "+---------+-------------+\n",
      "| Rain(1) |      0.8000 |\n",
      "+---------+-------------+\n"
     ]
    },
    {
     "name": "stderr",
     "output_type": "stream",
     "text": [
      "\n"
     ]
    }
   ],
   "source": [
    "q_2 = bn.inference.fit(model, variables=['Rain'], evidence={'Cloudy':1})"
   ]
  },
  {
   "cell_type": "code",
   "execution_count": 23,
   "metadata": {},
   "outputs": [
    {
     "name": "stderr",
     "output_type": "stream",
     "text": [
      "Finding Elimination Order: : 100%|██████████| 1/1 [00:00<00:00, 388.69it/s]\n",
      "Eliminating: Cloudy: 100%|██████████| 1/1 [00:00<00:00, 372.86it/s]"
     ]
    },
    {
     "name": "stdout",
     "output_type": "stream",
     "text": [
      "[bnlearn] >Variable Elimination..\n",
      "+---------+--------------+-----------------------+\n",
      "| Rain    | Wet_Grass    |   phi(Rain,Wet_Grass) |\n",
      "+=========+==============+=======================+\n",
      "| Rain(0) | Wet_Grass(0) |                0.0700 |\n",
      "+---------+--------------+-----------------------+\n",
      "| Rain(0) | Wet_Grass(1) |                0.6300 |\n",
      "+---------+--------------+-----------------------+\n",
      "| Rain(1) | Wet_Grass(0) |                0.0030 |\n",
      "+---------+--------------+-----------------------+\n",
      "| Rain(1) | Wet_Grass(1) |                0.2970 |\n",
      "+---------+--------------+-----------------------+\n"
     ]
    },
    {
     "name": "stderr",
     "output_type": "stream",
     "text": [
      "\n"
     ]
    }
   ],
   "source": [
    "q_2 = bn.inference.fit(model, variables=['Wet_Grass','Rain'], evidence={'Sprinkler':1})"
   ]
  },
  {
   "cell_type": "markdown",
   "metadata": {},
   "source": [
    "### Sampling to a dataframe"
   ]
  },
  {
   "cell_type": "code",
   "execution_count": 18,
   "metadata": {},
   "outputs": [
    {
     "name": "stderr",
     "output_type": "stream",
     "text": [
      "Generating for node: Wet_Grass: 100%|██████████| 4/4 [00:00<00:00, 176.66it/s]"
     ]
    },
    {
     "name": "stdout",
     "output_type": "stream",
     "text": [
      "[bnlearn] >Checking CPDs..\n",
      "[bnlearn] >Check for DAG structure. Correct: True\n",
      "[bnlearn] >Forward sampling for 1000 samples..\n"
     ]
    },
    {
     "name": "stderr",
     "output_type": "stream",
     "text": [
      "\n"
     ]
    }
   ],
   "source": [
    "model = bn.import_DAG('sprinkler')\n",
    "df = bn.sampling(model, n=1000)"
   ]
  },
  {
   "cell_type": "code",
   "execution_count": 19,
   "metadata": {},
   "outputs": [
    {
     "data": {
      "text/html": [
       "<div>\n",
       "<style scoped>\n",
       "    .dataframe tbody tr th:only-of-type {\n",
       "        vertical-align: middle;\n",
       "    }\n",
       "\n",
       "    .dataframe tbody tr th {\n",
       "        vertical-align: top;\n",
       "    }\n",
       "\n",
       "    .dataframe thead th {\n",
       "        text-align: right;\n",
       "    }\n",
       "</style>\n",
       "<table border=\"1\" class=\"dataframe\">\n",
       "  <thead>\n",
       "    <tr style=\"text-align: right;\">\n",
       "      <th></th>\n",
       "      <th>Cloudy</th>\n",
       "      <th>Rain</th>\n",
       "      <th>Sprinkler</th>\n",
       "      <th>Wet_Grass</th>\n",
       "    </tr>\n",
       "  </thead>\n",
       "  <tbody>\n",
       "    <tr>\n",
       "      <th>0</th>\n",
       "      <td>1</td>\n",
       "      <td>1</td>\n",
       "      <td>1</td>\n",
       "      <td>1</td>\n",
       "    </tr>\n",
       "    <tr>\n",
       "      <th>1</th>\n",
       "      <td>1</td>\n",
       "      <td>1</td>\n",
       "      <td>0</td>\n",
       "      <td>1</td>\n",
       "    </tr>\n",
       "    <tr>\n",
       "      <th>2</th>\n",
       "      <td>0</td>\n",
       "      <td>0</td>\n",
       "      <td>0</td>\n",
       "      <td>0</td>\n",
       "    </tr>\n",
       "    <tr>\n",
       "      <th>3</th>\n",
       "      <td>0</td>\n",
       "      <td>0</td>\n",
       "      <td>1</td>\n",
       "      <td>0</td>\n",
       "    </tr>\n",
       "    <tr>\n",
       "      <th>4</th>\n",
       "      <td>1</td>\n",
       "      <td>1</td>\n",
       "      <td>0</td>\n",
       "      <td>1</td>\n",
       "    </tr>\n",
       "    <tr>\n",
       "      <th>...</th>\n",
       "      <td>...</td>\n",
       "      <td>...</td>\n",
       "      <td>...</td>\n",
       "      <td>...</td>\n",
       "    </tr>\n",
       "    <tr>\n",
       "      <th>995</th>\n",
       "      <td>0</td>\n",
       "      <td>0</td>\n",
       "      <td>0</td>\n",
       "      <td>0</td>\n",
       "    </tr>\n",
       "    <tr>\n",
       "      <th>996</th>\n",
       "      <td>1</td>\n",
       "      <td>1</td>\n",
       "      <td>1</td>\n",
       "      <td>1</td>\n",
       "    </tr>\n",
       "    <tr>\n",
       "      <th>997</th>\n",
       "      <td>1</td>\n",
       "      <td>1</td>\n",
       "      <td>0</td>\n",
       "      <td>1</td>\n",
       "    </tr>\n",
       "    <tr>\n",
       "      <th>998</th>\n",
       "      <td>1</td>\n",
       "      <td>1</td>\n",
       "      <td>1</td>\n",
       "      <td>1</td>\n",
       "    </tr>\n",
       "    <tr>\n",
       "      <th>999</th>\n",
       "      <td>0</td>\n",
       "      <td>0</td>\n",
       "      <td>1</td>\n",
       "      <td>0</td>\n",
       "    </tr>\n",
       "  </tbody>\n",
       "</table>\n",
       "<p>1000 rows × 4 columns</p>\n",
       "</div>"
      ],
      "text/plain": [
       "     Cloudy  Rain  Sprinkler  Wet_Grass\n",
       "0         1     1          1          1\n",
       "1         1     1          0          1\n",
       "2         0     0          0          0\n",
       "3         0     0          1          0\n",
       "4         1     1          0          1\n",
       "..      ...   ...        ...        ...\n",
       "995       0     0          0          0\n",
       "996       1     1          1          1\n",
       "997       1     1          0          1\n",
       "998       1     1          1          1\n",
       "999       0     0          1          0\n",
       "\n",
       "[1000 rows x 4 columns]"
      ]
     },
     "execution_count": 19,
     "metadata": {},
     "output_type": "execute_result"
    }
   ],
   "source": [
    "df"
   ]
  },
  {
   "cell_type": "code",
   "execution_count": null,
   "metadata": {},
   "outputs": [],
   "source": []
  }
 ],
 "metadata": {
  "kernelspec": {
   "display_name": "FHWS vLab Python 3",
   "language": "python",
   "name": "python3"
  },
  "language_info": {
   "codemirror_mode": {
    "name": "ipython",
    "version": 3
   },
   "file_extension": ".py",
   "mimetype": "text/x-python",
   "name": "python",
   "nbconvert_exporter": "python",
   "pygments_lexer": "ipython3",
   "version": "3.8.3"
  }
 },
 "nbformat": 4,
 "nbformat_minor": 4
}
