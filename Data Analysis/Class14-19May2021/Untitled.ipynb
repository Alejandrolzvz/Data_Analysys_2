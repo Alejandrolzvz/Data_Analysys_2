{
 "cells": [
  {
   "cell_type": "code",
   "execution_count": 1,
   "metadata": {},
   "outputs": [],
   "source": [
    "\"\"\"Data Preparation Library\"\"\"\n",
    "import pandas as pd\n",
    "import numpy as np\n",
    "import seaborn as sns\n",
    "import matplotlib.pyplot as plt\n",
    "from sklearn.model_selection import train_test_split\n",
    "\n",
    "\"\"\"Models Library\"\"\"\n",
    "from sklearn.svm import SVC\n",
    "from sklearn.tree import DecisionTreeClassifier\n",
    "from sklearn.linear_model import LogisticRegression\n",
    "from sklearn.neighbors import KNeighborsClassifier\n",
    "from sklearn.ensemble import RandomForestClassifier\n",
    "from sklearn.neural_network import MLPClassifier\n",
    "from sklearn.naive_bayes import GaussianNB\n",
    "import xgboost as xgb\n",
    "from xgboost import XGBClassifier\n",
    "from sklearn.metrics import confusion_matrix,accuracy_score\n",
    "\n",
    "\"\"\"Model Evaluation\"\"\"\n",
    "from sklearn.model_selection import cross_val_score\n",
    "from sklearn.model_selection import GridSearchCV\n",
    "\n",
    "\"\"\"Other\"\"\"\n",
    "import os\n",
    "import warnings\n",
    "# from sklearn.utils.testing import ignore_warnings\n",
    "from sklearn.exceptions import ConvergenceWarning\n",
    "%matplotlib inline\n",
    "warnings.filterwarnings(\"ignore\", category=FutureWarning)\n",
    "warnings.filterwarnings(\"ignore\", category = ConvergenceWarning)"
   ]
  },
  {
   "cell_type": "code",
   "execution_count": 2,
   "metadata": {},
   "outputs": [
    {
     "data": {
      "text/html": [
       "<div>\n",
       "<style scoped>\n",
       "    .dataframe tbody tr th:only-of-type {\n",
       "        vertical-align: middle;\n",
       "    }\n",
       "\n",
       "    .dataframe tbody tr th {\n",
       "        vertical-align: top;\n",
       "    }\n",
       "\n",
       "    .dataframe thead th {\n",
       "        text-align: right;\n",
       "    }\n",
       "</style>\n",
       "<table border=\"1\" class=\"dataframe\">\n",
       "  <thead>\n",
       "    <tr style=\"text-align: right;\">\n",
       "      <th></th>\n",
       "      <th>ID</th>\n",
       "      <th>Sample</th>\n",
       "      <th>negativity</th>\n",
       "      <th>neutrality</th>\n",
       "      <th>positivity</th>\n",
       "      <th>compound</th>\n",
       "      <th>polarity</th>\n",
       "      <th>subjectivity</th>\n",
       "      <th>anger</th>\n",
       "      <th>anticipation</th>\n",
       "      <th>...</th>\n",
       "      <th>surprise</th>\n",
       "      <th>trust</th>\n",
       "      <th>Verdadero</th>\n",
       "      <th>Misinformation</th>\n",
       "      <th>Desinformación</th>\n",
       "      <th>ProGob</th>\n",
       "      <th>ContraGob</th>\n",
       "      <th>NoVerificable</th>\n",
       "      <th>MisDisInformation</th>\n",
       "      <th>Propaganda</th>\n",
       "    </tr>\n",
       "  </thead>\n",
       "  <tbody>\n",
       "    <tr>\n",
       "      <th>0</th>\n",
       "      <td>1</td>\n",
       "      <td>A</td>\n",
       "      <td>0.000</td>\n",
       "      <td>1.000</td>\n",
       "      <td>0.000</td>\n",
       "      <td>0.0000</td>\n",
       "      <td>0.250000</td>\n",
       "      <td>0.333333</td>\n",
       "      <td>0.000000</td>\n",
       "      <td>0.000000</td>\n",
       "      <td>...</td>\n",
       "      <td>0.000000</td>\n",
       "      <td>0.125000</td>\n",
       "      <td>0</td>\n",
       "      <td>0</td>\n",
       "      <td>0</td>\n",
       "      <td>0</td>\n",
       "      <td>0</td>\n",
       "      <td>1</td>\n",
       "      <td>0</td>\n",
       "      <td>0</td>\n",
       "    </tr>\n",
       "    <tr>\n",
       "      <th>1</th>\n",
       "      <td>2</td>\n",
       "      <td>A</td>\n",
       "      <td>0.000</td>\n",
       "      <td>0.838</td>\n",
       "      <td>0.162</td>\n",
       "      <td>0.7713</td>\n",
       "      <td>0.000000</td>\n",
       "      <td>0.900000</td>\n",
       "      <td>0.000000</td>\n",
       "      <td>0.000000</td>\n",
       "      <td>...</td>\n",
       "      <td>0.000000</td>\n",
       "      <td>0.037037</td>\n",
       "      <td>1</td>\n",
       "      <td>0</td>\n",
       "      <td>0</td>\n",
       "      <td>0</td>\n",
       "      <td>0</td>\n",
       "      <td>0</td>\n",
       "      <td>0</td>\n",
       "      <td>0</td>\n",
       "    </tr>\n",
       "    <tr>\n",
       "      <th>2</th>\n",
       "      <td>3</td>\n",
       "      <td>A</td>\n",
       "      <td>0.000</td>\n",
       "      <td>0.895</td>\n",
       "      <td>0.105</td>\n",
       "      <td>0.6437</td>\n",
       "      <td>0.000000</td>\n",
       "      <td>0.000000</td>\n",
       "      <td>0.000000</td>\n",
       "      <td>0.034483</td>\n",
       "      <td>...</td>\n",
       "      <td>0.034483</td>\n",
       "      <td>0.000000</td>\n",
       "      <td>1</td>\n",
       "      <td>0</td>\n",
       "      <td>0</td>\n",
       "      <td>0</td>\n",
       "      <td>1</td>\n",
       "      <td>0</td>\n",
       "      <td>0</td>\n",
       "      <td>1</td>\n",
       "    </tr>\n",
       "    <tr>\n",
       "      <th>3</th>\n",
       "      <td>4</td>\n",
       "      <td>A</td>\n",
       "      <td>0.110</td>\n",
       "      <td>0.890</td>\n",
       "      <td>0.000</td>\n",
       "      <td>-0.6369</td>\n",
       "      <td>0.000000</td>\n",
       "      <td>0.500000</td>\n",
       "      <td>0.000000</td>\n",
       "      <td>0.000000</td>\n",
       "      <td>...</td>\n",
       "      <td>0.000000</td>\n",
       "      <td>0.086957</td>\n",
       "      <td>1</td>\n",
       "      <td>0</td>\n",
       "      <td>0</td>\n",
       "      <td>0</td>\n",
       "      <td>0</td>\n",
       "      <td>0</td>\n",
       "      <td>0</td>\n",
       "      <td>0</td>\n",
       "    </tr>\n",
       "    <tr>\n",
       "      <th>4</th>\n",
       "      <td>5</td>\n",
       "      <td>A</td>\n",
       "      <td>0.229</td>\n",
       "      <td>0.677</td>\n",
       "      <td>0.094</td>\n",
       "      <td>-0.4949</td>\n",
       "      <td>0.216667</td>\n",
       "      <td>0.566667</td>\n",
       "      <td>0.066667</td>\n",
       "      <td>0.066667</td>\n",
       "      <td>...</td>\n",
       "      <td>0.066667</td>\n",
       "      <td>0.066667</td>\n",
       "      <td>0</td>\n",
       "      <td>0</td>\n",
       "      <td>0</td>\n",
       "      <td>0</td>\n",
       "      <td>0</td>\n",
       "      <td>1</td>\n",
       "      <td>0</td>\n",
       "      <td>0</td>\n",
       "    </tr>\n",
       "  </tbody>\n",
       "</table>\n",
       "<p>5 rows × 26 columns</p>\n",
       "</div>"
      ],
      "text/plain": [
       "   ID Sample  negativity  neutrality  positivity  compound  polarity  \\\n",
       "0   1      A       0.000       1.000       0.000    0.0000  0.250000   \n",
       "1   2      A       0.000       0.838       0.162    0.7713  0.000000   \n",
       "2   3      A       0.000       0.895       0.105    0.6437  0.000000   \n",
       "3   4      A       0.110       0.890       0.000   -0.6369  0.000000   \n",
       "4   5      A       0.229       0.677       0.094   -0.4949  0.216667   \n",
       "\n",
       "   subjectivity     anger  anticipation  ...  surprise     trust  Verdadero  \\\n",
       "0      0.333333  0.000000      0.000000  ...  0.000000  0.125000          0   \n",
       "1      0.900000  0.000000      0.000000  ...  0.000000  0.037037          1   \n",
       "2      0.000000  0.000000      0.034483  ...  0.034483  0.000000          1   \n",
       "3      0.500000  0.000000      0.000000  ...  0.000000  0.086957          1   \n",
       "4      0.566667  0.066667      0.066667  ...  0.066667  0.066667          0   \n",
       "\n",
       "   Misinformation  Desinformación  ProGob  ContraGob  NoVerificable  \\\n",
       "0               0               0       0          0              1   \n",
       "1               0               0       0          0              0   \n",
       "2               0               0       0          1              0   \n",
       "3               0               0       0          0              0   \n",
       "4               0               0       0          0              1   \n",
       "\n",
       "   MisDisInformation  Propaganda  \n",
       "0                  0           0  \n",
       "1                  0           0  \n",
       "2                  0           1  \n",
       "3                  0           0  \n",
       "4                  0           0  \n",
       "\n",
       "[5 rows x 26 columns]"
      ]
     },
     "execution_count": 2,
     "metadata": {},
     "output_type": "execute_result"
    }
   ],
   "source": [
    "# Importing dataset\n",
    "df = pd.read_csv(\"sentiment_and_labels.csv\",  encoding='latin-1')\n",
    "\n",
    "# First 5 rows of data\n",
    "df.head()"
   ]
  },
  {
   "cell_type": "code",
   "execution_count": 3,
   "metadata": {},
   "outputs": [
    {
     "name": "stdout",
     "output_type": "stream",
     "text": [
      "Dataset dimensions \n",
      "# Attributes:  26 \n",
      "# Entries:  938 \n",
      "\n",
      "<class 'pandas.core.frame.DataFrame'>\n",
      "RangeIndex: 938 entries, 0 to 937\n",
      "Data columns (total 26 columns):\n",
      " #   Column             Non-Null Count  Dtype  \n",
      "---  ------             --------------  -----  \n",
      " 0   ID                 938 non-null    int64  \n",
      " 1   Sample             938 non-null    object \n",
      " 2   negativity         938 non-null    float64\n",
      " 3   neutrality         938 non-null    float64\n",
      " 4   positivity         938 non-null    float64\n",
      " 5   compound           938 non-null    float64\n",
      " 6   polarity           938 non-null    float64\n",
      " 7   subjectivity       938 non-null    float64\n",
      " 8   anger              938 non-null    float64\n",
      " 9   anticipation       938 non-null    float64\n",
      " 10  disgust            938 non-null    float64\n",
      " 11  fear               938 non-null    float64\n",
      " 12  joy                938 non-null    float64\n",
      " 13  negative           938 non-null    float64\n",
      " 14  positive           938 non-null    float64\n",
      " 15  sadness            938 non-null    float64\n",
      " 16  surprise           938 non-null    float64\n",
      " 17  trust              938 non-null    float64\n",
      " 18  Verdadero          938 non-null    int64  \n",
      " 19  Misinformation     938 non-null    int64  \n",
      " 20  Desinformación     938 non-null    int64  \n",
      " 21  ProGob             938 non-null    int64  \n",
      " 22  ContraGob          938 non-null    int64  \n",
      " 23  NoVerificable      938 non-null    int64  \n",
      " 24  MisDisInformation  938 non-null    int64  \n",
      " 25  Propaganda         938 non-null    int64  \n",
      "dtypes: float64(16), int64(9), object(1)\n",
      "memory usage: 190.7+ KB\n"
     ]
    }
   ],
   "source": [
    "# Dataframe size and info\n",
    "\n",
    "def get_df_size(df, header='Dataset dimensions'):\n",
    "  print(header,\n",
    "        '\\n# Attributes: ', df.shape[1], \n",
    "        '\\n# Entries: ', df.shape[0],'\\n')\n",
    "  \n",
    "get_df_size(df)\n",
    "# Dataset dimensions \n",
    "# Attributes:  21 \n",
    "# Entries:  7043 \n",
    "\n",
    "# Features and data types\n",
    "# The feature TotalCharges got read by Pandas as object data type. This have impacts during the exploratory analysis and have to be handled. We will convert datatype to float64 in the coming sections.\n",
    "\n",
    "\n",
    "df.info()"
   ]
  },
  {
   "cell_type": "code",
   "execution_count": 4,
   "metadata": {},
   "outputs": [
    {
     "name": "stdout",
     "output_type": "stream",
     "text": [
      "Missing values (per feature): \n",
      "ID                   0\n",
      "Sample               0\n",
      "negativity           0\n",
      "neutrality           0\n",
      "positivity           0\n",
      "compound             0\n",
      "polarity             0\n",
      "subjectivity         0\n",
      "anger                0\n",
      "anticipation         0\n",
      "disgust              0\n",
      "fear                 0\n",
      "joy                  0\n",
      "negative             0\n",
      "positive             0\n",
      "sadness              0\n",
      "surprise             0\n",
      "trust                0\n",
      "Verdadero            0\n",
      "Misinformation       0\n",
      "Desinformación       0\n",
      "ProGob               0\n",
      "ContraGob            0\n",
      "NoVerificable        0\n",
      "MisDisInformation    0\n",
      "Propaganda           0\n",
      "dtype: int64\n",
      "\n"
     ]
    }
   ],
   "source": [
    "df_clean = df.replace(r'^\\s*$', np.nan, regex=True)\n",
    "\n",
    "# print missing values\n",
    "print(\"Missing values (per feature): \\n{}\\n\".format(df_clean.isnull().sum()))"
   ]
  },
  {
   "cell_type": "code",
   "execution_count": 6,
   "metadata": {},
   "outputs": [
    {
     "data": {
      "text/plain": [
       "ID                   False\n",
       "Sample               False\n",
       "negativity           False\n",
       "neutrality           False\n",
       "positivity           False\n",
       "compound             False\n",
       "polarity             False\n",
       "subjectivity         False\n",
       "anger                False\n",
       "anticipation         False\n",
       "disgust              False\n",
       "fear                 False\n",
       "joy                  False\n",
       "negative             False\n",
       "positive             False\n",
       "sadness              False\n",
       "surprise             False\n",
       "trust                False\n",
       "Verdadero            False\n",
       "Misinformation       False\n",
       "Desinformación       False\n",
       "ProGob               False\n",
       "ContraGob            False\n",
       "NoVerificable        False\n",
       "MisDisInformation    False\n",
       "Propaganda           False\n",
       "dtype: bool"
      ]
     },
     "execution_count": 6,
     "metadata": {},
     "output_type": "execute_result"
    }
   ],
   "source": [
    "df.isna().any()"
   ]
  },
  {
   "cell_type": "code",
   "execution_count": null,
   "metadata": {},
   "outputs": [],
   "source": []
  },
  {
   "cell_type": "code",
   "execution_count": 7,
   "metadata": {},
   "outputs": [],
   "source": [
    "y1 = df[['Verdadero', 'Misinformation', 'Desinformación', 'ProGob', 'ContraGob', 'NoVerificable', 'MisDisInformation', 'Propaganda']]\n",
    "X = df[['negativity', 'neutrality', 'positivity', 'compound','polarity', 'subjectivity', 'anger', 'anticipation', 'disgust', 'fear', 'joy', 'negative', 'positive', 'sadness', 'surprise', 'trust']]"
   ]
  },
  {
   "cell_type": "code",
   "execution_count": 8,
   "metadata": {},
   "outputs": [
    {
     "data": {
      "image/png": "[encoded data removed]",
      "text/plain": [
       "<Figure size 1080x864 with 8 Axes>"
      ]
     },
     "metadata": {
      "needs_background": "light"
     },
     "output_type": "display_data"
    }
   ],
   "source": [
    "fig = plt.figure(figsize=(15, 12))\n",
    "plt.suptitle('Histograms of Numerical Columns\\n',horizontalalignment=\"center\",fontstyle = \"normal\", fontsize = 24, fontfamily = \"sans-serif\")\n",
    "for i in range(y1.shape[1]):\n",
    "    plt.subplot(4, 2, i + 1)\n",
    "    f = plt.gca()\n",
    "    f.set_title(y1.columns.values[i])\n",
    "\n",
    "    vals = np.size(y1.iloc[:, i].unique())\n",
    "    if vals >= 100:\n",
    "        vals = 100\n",
    "    \n",
    "    plt.hist(y1.iloc[:, i], bins=vals, color = '#ec838a')\n",
    "plt.tight_layout(rect=[0, 0.03, 1, 0.95])"
   ]
  },
  {
   "cell_type": "code",
   "execution_count": null,
   "metadata": {},
   "outputs": [],
   "source": []
  },
  {
   "cell_type": "code",
   "execution_count": 9,
   "metadata": {},
   "outputs": [
    {
     "name": "stdout",
     "output_type": "stream",
     "text": [
      "1    546\n",
      "0    392\n",
      "Name: Verdadero, dtype: int64\n",
      "0    909\n",
      "1     29\n",
      "Name: Misinformation, dtype: int64\n",
      "0    892\n",
      "1     46\n",
      "Name: Desinformación, dtype: int64\n",
      "0    828\n",
      "1    110\n",
      "Name: ProGob, dtype: int64\n",
      "0    827\n",
      "1    111\n",
      "Name: ContraGob, dtype: int64\n",
      "0    753\n",
      "1    185\n",
      "Name: NoVerificable, dtype: int64\n",
      "0    863\n",
      "1     75\n",
      "Name: MisDisInformation, dtype: int64\n",
      "0    717\n",
      "1    221\n",
      "Name: Propaganda, dtype: int64\n"
     ]
    }
   ],
   "source": [
    "print(y1['Verdadero'].value_counts())\n",
    "print(y1['Misinformation'].value_counts())\n",
    "print(y1['Desinformación'].value_counts())\n",
    "print(y1['ProGob'].value_counts())\n",
    "print(y1['ContraGob'].value_counts())\n",
    "print(y1['NoVerificable'].value_counts())\n",
    "print(y1['MisDisInformation'].value_counts())\n",
    "print(y1['Propaganda'].value_counts())\n"
   ]
  },
  {
   "cell_type": "code",
   "execution_count": 10,
   "metadata": {},
   "outputs": [],
   "source": [
    "# helper funtion - display count plot\n",
    "def displayCountPlot(cat_list, df, rows=1, columns=3, figsize=(14,2.5), export=False):\n",
    "  \n",
    "  \"\"\"\n",
    "    Display countplot based on a set of features\n",
    "\n",
    "    # Arguments\n",
    "      cat_list: array, List of features\n",
    "      df: DataFrame, dataset\n",
    "      rows: int, number of rows\n",
    "      columns: int, number of columns\n",
    "      figsize: figure size, e.g (10, 5)\n",
    "\n",
    "  \"\"\"\n",
    "\n",
    "  fig, ax = plt.subplots(ncols=columns, figsize=figsize)\n",
    "  \n",
    "  idx = 0\n",
    "  for c in cat_list:\n",
    "    idx += 1\n",
    "    plt.subplot(rows, columns, idx)\n",
    "    ax = sns.countplot(x=df[c], data=df, palette=palette)\n",
    "\n",
    "    plt.xticks(size=10)\n",
    "    plt.xlabel('')\n",
    "    plt.yticks(size=12)\n",
    "    plt.ylabel('')\n",
    "    plt.subplots_adjust(hspace = 0.4)\n",
    "    ax.tick_params(labelleft=False)\n",
    "    ax.set_title(c, alpha=0.8)\n",
    "\n",
    "    print_rate(ax, df.shape[0])\n",
    "\n",
    "  if export :\n",
    "    save_img(fig, ax)\n",
    "\n",
    "  plt.tight_layout()\n",
    "  plt.show()\n",
    "\n",
    "  return fig\n",
    "\n",
    "def print_rate(ax, total):\n",
    "  for p in ax.patches:\n",
    "    text = '{:.1f}% ({})'.format(100 * p.get_height() / total, p.get_height())\n",
    "    x = p.get_x() + p.get_width() / 2\n",
    "    y = p.get_y() + p.get_height() * 0.5\n",
    "    ax.annotate(text, (x, y), size = 10, ha=\"center\", va=\"center\")\n",
    "\n",
    "def save_img(fig, ax):\n",
    "  fig.savefig(ax.get_title(), dpi=600)"
   ]
  },
  {
   "cell_type": "code",
   "execution_count": 11,
   "metadata": {},
   "outputs": [
    {
     "data": {
      "image/png": "[encoded data removed]",
      "text/plain": [
       "<Figure size 1008x180 with 8 Axes>"
      ]
     },
     "metadata": {},
     "output_type": "display_data"
    },
    {
     "data": {
      "image/png": "[encoded data removed]",
      "text/plain": [
       "<Figure size 1008x180 with 8 Axes>"
      ]
     },
     "execution_count": 11,
     "metadata": {},
     "output_type": "execute_result"
    }
   ],
   "source": [
    "\n",
    "# configure graph style\n",
    "sns.set_style('darkgrid')\n",
    "#palette=sns.color_palette(\"GnBu_d\")\n",
    "#palette=sns.color_palette(\"BuGn_r\")\n",
    "#palette = sns.light_palette(\"navy\", reverse=True)\n",
    "palette = sns.color_palette(\"coolwarm\", 7)\n",
    "\n",
    "ys = ['Verdadero', 'Misinformation', 'Desinformación', 'ProGob', 'ContraGob', 'NoVerificable', 'MisDisInformation', 'Propaganda']\n",
    "\n",
    "displayCountPlot(ys, y1, rows=2, columns=4, export=False)\n"
   ]
  },
  {
   "cell_type": "code",
   "execution_count": 12,
   "metadata": {},
   "outputs": [],
   "source": [
    "y = df[[ 'Propaganda']]"
   ]
  },
  {
   "cell_type": "code",
   "execution_count": 13,
   "metadata": {},
   "outputs": [],
   "source": [
    "# split df_proc between train and test\n",
    "X_train, X_test, y_train, y_test = train_test_split(X, y)\n",
    "# Machine Learning Model\n"
   ]
  },
  {
   "cell_type": "code",
   "execution_count": 14,
   "metadata": {},
   "outputs": [],
   "source": [
    "# cross-validation function\n",
    "def val_model(X, y, clf, quite=False):\n",
    "  \"\"\"\n",
    "    Make cross-validation for a given model\n",
    "\n",
    "    # Arguments\n",
    "      X: DataFrame, feature matrix\n",
    "      y: Series, target vector\n",
    "      clf: classifier from scikit-learn\n",
    "      quite: bool, indicate if funcion should print the results\n",
    "\n",
    "    # Returns\n",
    "      float, validation scores\n",
    "\n",
    "  \"\"\"\n",
    "\n",
    "  X = np.array(X)\n",
    "  y = np.array(y)\n",
    "\n",
    "  pipeline = make_pipeline(StandardScaler(), clf)\n",
    "  scores = cross_val_score(pipeline, X, y, cv=5, scoring='recall')\n",
    "\n",
    "  if quite == False:\n",
    "    print(\"##### \", clf.__class__.__name__, \" #####\")\n",
    "    print(\"scores:\", scores)\n",
    "    print(\"recall: {:.3f} (+/- {:.2f})\".format(scores.mean(), scores.std()))\n",
    "\n",
    "  return scores.mean()\n",
    "\n",
    "def getClfRecallScores(X_train, y_train, *clf_list):\n",
    "  \"\"\"\n",
    "  Provides recall score gor a given list of models\n",
    "\n",
    "  # Arguments\n",
    "    X_train: X_train\n",
    "    y_train: y_train\n",
    "    *clf_list: list of classifiers\n",
    "\n",
    "  # Returns\n",
    "    DataFrame, recall scores\n",
    "\n",
    "  \"\"\"\n",
    "\n",
    "  model_name = []\n",
    "  recall = []\n",
    "\n",
    "  for model in clf_list:\n",
    "    model_name.append(model.__class__.__name__)\n",
    "    recall.append(val_model(X_train, y_train, model))\n",
    "  \n",
    "  return pd.DataFrame(data=recall, index=model_name, columns=['Recall']).sort_values(by='Recall', ascending=False)"
   ]
  },
  {
   "cell_type": "code",
   "execution_count": 15,
   "metadata": {},
   "outputs": [
    {
     "name": "stdout",
     "output_type": "stream",
     "text": [
      "Before balancing: \n",
      "# Attributes:  16 \n",
      "# Entries:  703 \n",
      "\n",
      "After balancing: \n",
      "# Attributes:  16 \n",
      "# Entries:  342 \n",
      "\n"
     ]
    },
    {
     "data": {
      "text/plain": [
       "(array([0, 1], dtype=int64), array([171, 171], dtype=int64))"
      ]
     },
     "execution_count": 15,
     "metadata": {},
     "output_type": "execute_result"
    }
   ],
   "source": [
    "from imblearn.under_sampling import RandomUnderSampler\n",
    "\n",
    "# Balancing the data\n",
    "\n",
    "# under sampling\n",
    "rus = RandomUnderSampler()\n",
    "X_train_rus, y_train_rus = rus.fit_resample(X_train, y_train)\n",
    "\n",
    "get_df_size(X_train, header='Before balancing:')\n",
    "get_df_size(X_train_rus, header='After balancing:')\n",
    "\n",
    "# make sure the number of classes are equal distibuted\n",
    "np.unique(y_train_rus, return_counts=True)\n",
    "# Before balancing: \n",
    "# Attributes:  40 \n",
    "# Entries:  5282 \n",
    "\n",
    "# After balancing: \n",
    "# Attributes:  40 \n",
    "# Entries:  2842 "
   ]
  },
  {
   "cell_type": "code",
   "execution_count": 17,
   "metadata": {},
   "outputs": [],
   "source": [
    "from sklearn.linear_model import LogisticRegression\n",
    "from sklearn.metrics import classification_report  \n",
    "from sklearn.metrics import confusion_matrix  \n",
    "from sklearn.metrics import accuracy_score\n",
    "from sklearn.metrics import roc_auc_score\n",
    "from sklearn.preprocessing import StandardScaler, LabelEncoder\n",
    "from sklearn.model_selection import train_test_split\n",
    "from sklearn.model_selection import cross_val_score\n",
    "from sklearn.model_selection import StratifiedKFold\n",
    "from sklearn.model_selection import GridSearchCV\n",
    "from sklearn.pipeline import make_pipeline\n",
    "from sklearn.ensemble import RandomForestClassifier\n",
    "\n",
    "# Standardizing the data\n",
    "\n",
    "# standardizing X_train and X_test\n",
    "scaler = StandardScaler()\n",
    "X_train = scaler.fit_transform(X_train)\n",
    "X_train_rus = scaler.fit_transform(X_train_rus)\n",
    "X_test = scaler.transform(X_test)"
   ]
  },
  {
   "cell_type": "code",
   "execution_count": 18,
   "metadata": {},
   "outputs": [
    {
     "name": "stdout",
     "output_type": "stream",
     "text": [
      "#####  DecisionTreeClassifier  #####\n",
      "scores: [0.44117647 0.62857143 0.64705882 0.55882353 0.52941176]\n",
      "recall: 0.561 (+/- 0.07)\n",
      "#####  SVC  #####\n",
      "scores: [0.67647059 0.54285714 0.47058824 0.55882353 0.44117647]\n",
      "recall: 0.538 (+/- 0.08)\n",
      "#####  LogisticRegression  #####\n",
      "scores: [0.64705882 0.42857143 0.55882353 0.47058824 0.5       ]\n",
      "recall: 0.521 (+/- 0.08)\n",
      "[22:54:10] WARNING: C:/Users/Administrator/workspace/xgboost-win64_release_1.4.0/src/learner.cc:1095: Starting in XGBoost 1.3.0, the default evaluation metric used with the objective 'binary:logistic' was changed from 'error' to 'logloss'. Explicitly set eval_metric if you'd like to restore the old behavior.\n"
     ]
    },
    {
     "name": "stderr",
     "output_type": "stream",
     "text": [
      "C:\\Users\\aleja\\anaconda3\\lib\\site-packages\\sklearn\\utils\\validation.py:63: DataConversionWarning: A column-vector y was passed when a 1d array was expected. Please change the shape of y to (n_samples, ), for example using ravel().\n",
      "  return f(*args, **kwargs)\n",
      "C:\\Users\\aleja\\anaconda3\\lib\\site-packages\\sklearn\\utils\\validation.py:63: DataConversionWarning: A column-vector y was passed when a 1d array was expected. Please change the shape of y to (n_samples, ), for example using ravel().\n",
      "  return f(*args, **kwargs)\n",
      "C:\\Users\\aleja\\anaconda3\\lib\\site-packages\\sklearn\\utils\\validation.py:63: DataConversionWarning: A column-vector y was passed when a 1d array was expected. Please change the shape of y to (n_samples, ), for example using ravel().\n",
      "  return f(*args, **kwargs)\n",
      "C:\\Users\\aleja\\anaconda3\\lib\\site-packages\\sklearn\\utils\\validation.py:63: DataConversionWarning: A column-vector y was passed when a 1d array was expected. Please change the shape of y to (n_samples, ), for example using ravel().\n",
      "  return f(*args, **kwargs)\n",
      "C:\\Users\\aleja\\anaconda3\\lib\\site-packages\\sklearn\\utils\\validation.py:63: DataConversionWarning: A column-vector y was passed when a 1d array was expected. Please change the shape of y to (n_samples, ), for example using ravel().\n",
      "  return f(*args, **kwargs)\n",
      "C:\\Users\\aleja\\anaconda3\\lib\\site-packages\\sklearn\\utils\\validation.py:63: DataConversionWarning: A column-vector y was passed when a 1d array was expected. Please change the shape of y to (n_samples, ), for example using ravel().\n",
      "  return f(*args, **kwargs)\n",
      "C:\\Users\\aleja\\anaconda3\\lib\\site-packages\\sklearn\\utils\\validation.py:63: DataConversionWarning: A column-vector y was passed when a 1d array was expected. Please change the shape of y to (n_samples, ), for example using ravel().\n",
      "  return f(*args, **kwargs)\n",
      "C:\\Users\\aleja\\anaconda3\\lib\\site-packages\\sklearn\\utils\\validation.py:63: DataConversionWarning: A column-vector y was passed when a 1d array was expected. Please change the shape of y to (n_samples, ), for example using ravel().\n",
      "  return f(*args, **kwargs)\n",
      "C:\\Users\\aleja\\anaconda3\\lib\\site-packages\\sklearn\\utils\\validation.py:63: DataConversionWarning: A column-vector y was passed when a 1d array was expected. Please change the shape of y to (n_samples, ), for example using ravel().\n",
      "  return f(*args, **kwargs)\n",
      "C:\\Users\\aleja\\anaconda3\\lib\\site-packages\\sklearn\\utils\\validation.py:63: DataConversionWarning: A column-vector y was passed when a 1d array was expected. Please change the shape of y to (n_samples, ), for example using ravel().\n",
      "  return f(*args, **kwargs)\n",
      "C:\\Users\\aleja\\anaconda3\\lib\\site-packages\\xgboost\\sklearn.py:1146: UserWarning: The use of label encoder in XGBClassifier is deprecated and will be removed in a future release. To remove this warning, do the following: 1) Pass option use_label_encoder=False when constructing XGBClassifier object; and 2) Encode your labels (y) as integers starting with 0, i.e. 0, 1, 2, ..., [num_class - 1].\n",
      "  warnings.warn(label_encoder_deprecation_msg, UserWarning)\n",
      "C:\\Users\\aleja\\anaconda3\\lib\\site-packages\\sklearn\\utils\\validation.py:63: DataConversionWarning: A column-vector y was passed when a 1d array was expected. Please change the shape of y to (n_samples, ), for example using ravel().\n",
      "  return f(*args, **kwargs)\n",
      "C:\\Users\\aleja\\anaconda3\\lib\\site-packages\\xgboost\\sklearn.py:1146: UserWarning: The use of label encoder in XGBClassifier is deprecated and will be removed in a future release. To remove this warning, do the following: 1) Pass option use_label_encoder=False when constructing XGBClassifier object; and 2) Encode your labels (y) as integers starting with 0, i.e. 0, 1, 2, ..., [num_class - 1].\n",
      "  warnings.warn(label_encoder_deprecation_msg, UserWarning)\n",
      "C:\\Users\\aleja\\anaconda3\\lib\\site-packages\\sklearn\\utils\\validation.py:63: DataConversionWarning: A column-vector y was passed when a 1d array was expected. Please change the shape of y to (n_samples, ), for example using ravel().\n",
      "  return f(*args, **kwargs)\n",
      "C:\\Users\\aleja\\anaconda3\\lib\\site-packages\\xgboost\\sklearn.py:1146: UserWarning: The use of label encoder in XGBClassifier is deprecated and will be removed in a future release. To remove this warning, do the following: 1) Pass option use_label_encoder=False when constructing XGBClassifier object; and 2) Encode your labels (y) as integers starting with 0, i.e. 0, 1, 2, ..., [num_class - 1].\n",
      "  warnings.warn(label_encoder_deprecation_msg, UserWarning)\n",
      "C:\\Users\\aleja\\anaconda3\\lib\\site-packages\\sklearn\\utils\\validation.py:63: DataConversionWarning: A column-vector y was passed when a 1d array was expected. Please change the shape of y to (n_samples, ), for example using ravel().\n",
      "  return f(*args, **kwargs)\n"
     ]
    },
    {
     "name": "stdout",
     "output_type": "stream",
     "text": [
      "[22:54:10] WARNING: C:/Users/Administrator/workspace/xgboost-win64_release_1.4.0/src/learner.cc:1095: Starting in XGBoost 1.3.0, the default evaluation metric used with the objective 'binary:logistic' was changed from 'error' to 'logloss'. Explicitly set eval_metric if you'd like to restore the old behavior.\n",
      "[22:54:10] WARNING: C:/Users/Administrator/workspace/xgboost-win64_release_1.4.0/src/learner.cc:1095: Starting in XGBoost 1.3.0, the default evaluation metric used with the objective 'binary:logistic' was changed from 'error' to 'logloss'. Explicitly set eval_metric if you'd like to restore the old behavior.\n"
     ]
    },
    {
     "name": "stderr",
     "output_type": "stream",
     "text": [
      "C:\\Users\\aleja\\anaconda3\\lib\\site-packages\\xgboost\\sklearn.py:1146: UserWarning: The use of label encoder in XGBClassifier is deprecated and will be removed in a future release. To remove this warning, do the following: 1) Pass option use_label_encoder=False when constructing XGBClassifier object; and 2) Encode your labels (y) as integers starting with 0, i.e. 0, 1, 2, ..., [num_class - 1].\n",
      "  warnings.warn(label_encoder_deprecation_msg, UserWarning)\n",
      "C:\\Users\\aleja\\anaconda3\\lib\\site-packages\\sklearn\\utils\\validation.py:63: DataConversionWarning: A column-vector y was passed when a 1d array was expected. Please change the shape of y to (n_samples, ), for example using ravel().\n",
      "  return f(*args, **kwargs)\n",
      "C:\\Users\\aleja\\anaconda3\\lib\\site-packages\\xgboost\\sklearn.py:1146: UserWarning: The use of label encoder in XGBClassifier is deprecated and will be removed in a future release. To remove this warning, do the following: 1) Pass option use_label_encoder=False when constructing XGBClassifier object; and 2) Encode your labels (y) as integers starting with 0, i.e. 0, 1, 2, ..., [num_class - 1].\n",
      "  warnings.warn(label_encoder_deprecation_msg, UserWarning)\n",
      "C:\\Users\\aleja\\anaconda3\\lib\\site-packages\\sklearn\\utils\\validation.py:63: DataConversionWarning: A column-vector y was passed when a 1d array was expected. Please change the shape of y to (n_samples, ), for example using ravel().\n",
      "  return f(*args, **kwargs)\n"
     ]
    },
    {
     "name": "stdout",
     "output_type": "stream",
     "text": [
      "[22:54:10] WARNING: C:/Users/Administrator/workspace/xgboost-win64_release_1.4.0/src/learner.cc:1095: Starting in XGBoost 1.3.0, the default evaluation metric used with the objective 'binary:logistic' was changed from 'error' to 'logloss'. Explicitly set eval_metric if you'd like to restore the old behavior.\n",
      "[22:54:10] WARNING: C:/Users/Administrator/workspace/xgboost-win64_release_1.4.0/src/learner.cc:1095: Starting in XGBoost 1.3.0, the default evaluation metric used with the objective 'binary:logistic' was changed from 'error' to 'logloss'. Explicitly set eval_metric if you'd like to restore the old behavior.\n",
      "#####  XGBClassifier  #####\n",
      "scores: [0.70588235 0.54285714 0.52941176 0.5        0.52941176]\n",
      "recall: 0.562 (+/- 0.07)\n",
      "Here are the scores:--->                            Recall\n",
      "XGBClassifier           0.561513\n",
      "DecisionTreeClassifier  0.561008\n",
      "SVC                     0.537983\n",
      "LogisticRegression      0.521008\n"
     ]
    }
   ],
   "source": [
    "# Create baseline using Cross Validation\n",
    "\n",
    "from sklearn.svm import SVC\n",
    "from sklearn.tree import DecisionTreeClassifier\n",
    "from sklearn.linear_model import LogisticRegression\n",
    "from xgboost import XGBClassifier\n",
    "\n",
    "# instaciate models\n",
    "dt = DecisionTreeClassifier()\n",
    "svc = SVC()\n",
    "lr = LogisticRegression()\n",
    "xgb = XGBClassifier()\n",
    "\n",
    "df_scores = getClfRecallScores(X_train_rus, y_train_rus, dt, svc, lr, xgb)\n",
    "\n",
    "print(\"Here are the scores:---> \", df_scores)"
   ]
  },
  {
   "cell_type": "code",
   "execution_count": 40,
   "metadata": {},
   "outputs": [
    {
     "name": "stderr",
     "output_type": "stream",
     "text": [
      "C:\\Users\\aleja\\anaconda3\\lib\\site-packages\\xgboost\\sklearn.py:1146: UserWarning: The use of label encoder in XGBClassifier is deprecated and will be removed in a future release. To remove this warning, do the following: 1) Pass option use_label_encoder=False when constructing XGBClassifier object; and 2) Encode your labels (y) as integers starting with 0, i.e. 0, 1, 2, ..., [num_class - 1].\n",
      "  warnings.warn(label_encoder_deprecation_msg, UserWarning)\n"
     ]
    },
    {
     "name": "stdout",
     "output_type": "stream",
     "text": [
      "[00:07:53] WARNING: C:/Users/Administrator/workspace/xgboost-win64_release_1.4.0/src/learner.cc:1095: Starting in XGBoost 1.3.0, the default evaluation metric used with the objective 'binary:logistic' was changed from 'error' to 'logloss'. Explicitly set eval_metric if you'd like to restore the old behavior.\n",
      "              precision    recall  f1-score   support\n",
      "\n",
      "           0       0.78      0.89      0.83       143\n",
      "           1       0.36      0.20      0.26        45\n",
      "\n",
      "    accuracy                           0.72       188\n",
      "   macro avg       0.57      0.54      0.54       188\n",
      "weighted avg       0.68      0.72      0.69       188\n",
      "\n"
     ]
    },
    {
     "name": "stderr",
     "output_type": "stream",
     "text": [
      "C:\\Users\\aleja\\anaconda3\\lib\\site-packages\\xgboost\\data.py:112: UserWarning: Use subset (sliced data) of np.ndarray is not recommended because it will generate extra copies and increase memory consumption\n",
      "  warnings.warn(\n"
     ]
    }
   ],
   "source": [
    "# As LogisticRegression and SVC performed better in terms of Recall metric, I'm going to use those to tune the hyperparameters and check if it can deliver even better results.\n",
    "\n",
    "# XGB\n",
    "# I will be tunning solver and C in the Logistic Regression model. As can be seen below it presented a slight improvement after tuned, incresing Recall from 0.80 to 0.82.\n",
    "from sklearn import metrics\n",
    "from sklearn.metrics import classification_report, confusion_matrix  \n",
    "\n",
    "\n",
    "model = XGBClassifier()\n",
    "model.fit(X_train, y_train.values.ravel())\n",
    "preds = model.predict(X_test)\n",
    "print(classification_report(y_test, preds))"
   ]
  },
  {
   "cell_type": "code",
   "execution_count": 36,
   "metadata": {},
   "outputs": [
    {
     "data": {
      "image/png": "[encoded data removed]",
      "text/plain": [
       "<Figure size 1080x504 with 1 Axes>"
      ]
     },
     "metadata": {},
     "output_type": "display_data"
    }
   ],
   "source": [
    "#Identify optimal number of trees for Random Forest Model:\n",
    " \n",
    "score_array = []\n",
    "for each in range(1,199):\n",
    "    rf_loop = RandomForestClassifier(n_estimators = each, random_state = 1) \n",
    "    rf_loop.fit(X_train,y_train.values.ravel())\n",
    "    score_array.append(rf_loop.score(X_test,y_test))\n",
    " \n",
    "fig = plt.figure(figsize=(15, 7))\n",
    "plt.plot(range(1,199),score_array, color = '#ec838a')\n",
    "\n",
    "\n",
    "plt.ylabel('Range\\n',horizontalalignment=\"center\",fontstyle = \"normal\", fontsize = \"large\", fontfamily = \"sans-serif\")\n",
    "plt.xlabel('Score\\n',horizontalalignment=\"center\",fontstyle = \"normal\", fontsize = \"large\", fontfamily = \"sans-serif\")\n",
    "plt.title('Optimal Number of Trees for Random Forest Model \\n',horizontalalignment=\"center\", fontstyle = \"normal\", fontsize = \"22\", fontfamily = \"sans-serif\")\n",
    "#plt.legend(loc='top right', fontsize = \"medium\")\n",
    "plt.xticks(rotation=0, horizontalalignment=\"center\")\n",
    "plt.yticks(rotation=0, horizontalalignment=\"right\")\n",
    "\n",
    "plt.show()\n",
    " \n",
    " \n",
    "#Optimal number of decision trees = 72"
   ]
  },
  {
   "cell_type": "code",
   "execution_count": 39,
   "metadata": {},
   "outputs": [
    {
     "name": "stdout",
     "output_type": "stream",
     "text": [
      "              precision    recall  f1-score   support\n",
      "\n",
      "           0       0.77      0.99      0.87       143\n",
      "           1       0.67      0.09      0.16        45\n",
      "\n",
      "    accuracy                           0.77       188\n",
      "   macro avg       0.72      0.54      0.51       188\n",
      "weighted avg       0.75      0.77      0.70       188\n",
      "\n"
     ]
    }
   ],
   "source": [
    "from sklearn.ensemble import RandomForestClassifier\n",
    "X_train, X_test, y_train, y_test = train_test_split(X, y, test_size=0.2, random_state=101)\n",
    "model_rf = RandomForestClassifier(n_estimators=99 , oob_score = True, n_jobs = -1,\n",
    "                                  random_state =50, max_features = \"auto\",\n",
    "                                  max_leaf_nodes = 30)\n",
    "model_rf.fit(X_train, y_train.values.ravel())\n",
    "\n",
    "# Make predictions\n",
    "prediction_test = model_rf.predict(X_test)\n",
    "print(classification_report(y_test, prediction_test))"
   ]
  },
  {
   "cell_type": "code",
   "execution_count": 37,
   "metadata": {},
   "outputs": [],
   "source": [
    "XGB_corr = confusion_matrix(y_test, preds, normalize='true')\n",
    "rf_corr = confusion_matrix(y_test, prediction_test, normalize='true')"
   ]
  },
  {
   "cell_type": "code",
   "execution_count": 41,
   "metadata": {},
   "outputs": [
    {
     "data": {
      "image/png": "[encoded data removed]",
      "text/plain": [
       "<Figure size 720x288 with 4 Axes>"
      ]
     },
     "metadata": {},
     "output_type": "display_data"
    }
   ],
   "source": [
    "fig, ax = plt.subplots(nrows=1, ncols=2, figsize = (10,4))\n",
    "fig.suptitle('Correlation Matrix')\n",
    "\n",
    "sns.heatmap(XGB_corr, annot=True, linewidths=.1, cmap=palette, ax=ax[0])\n",
    "ax[0].set_title('XGB')\n",
    "ax[0].set_ylabel('True')\n",
    "ax[0].set_xlabel('Predicted')\n",
    "\n",
    "sns.heatmap(rf_corr, annot=True, linewidths=.1, cmap=palette, ax=ax[1])\n",
    "ax[1].set_title('Random Forest')\n",
    "ax[1].set_ylabel('True')\n",
    "ax[1].set_xlabel('Predicted')\n",
    "\n",
    "\n",
    "plt.show()\n",
    "\n",
    "fig.savefig(\"correlation_.png\", dpi=600)"
   ]
  },
  {
   "cell_type": "markdown",
   "metadata": {},
   "source": [
    "We conclude that even when the best model for accuracy is Random Forest, we see that XGB can predict with better accuracy Propaganda, but risking labeling some into propaganda when they are not."
   ]
  },
  {
   "cell_type": "markdown",
   "metadata": {},
   "source": [
    "1. Is data balanced in terms of the labeled categories? (2 points)\n",
    "\n",
    "   1.1. Plot the distribution of tweets in every category\n",
    "\n",
    "   1.2. Is there overlap between the categories?\n",
    "    R= There is Overlap between the categories because some categories had more than one positive label checked\n",
    "    \n",
    "\n",
    "2. Train two data models to classify the tweets in the given category using sentiment data. (10 points)\n",
    "\n",
    "   2.1. Choose as target variable one of {Misinformation, Desinformación, ProGob, ContraGob, MisDisInformation, Propaganda}, or define a multiclass label from a combination of these features with {Verdadero, NoVerificable}. \n",
    "\n",
    "   2.2. Select the features that most contribute to the classification (if necessary)\n",
    "\n",
    "   2.3. Select the algorithm or algorithms to use.\n",
    "\n",
    "   2.4. Apply a technique for dealing with data imbalance.\n",
    "\n",
    "   2.5. Train the models\n",
    "\n",
    "   2.6. Refine the parameters of the model.\n",
    "\n",
    "3. Evaluate the models and select the best one. (4 points)\n",
    "\n",
    "   3.1. Calculate the accuracy, precision and recall\n",
    "\n",
    "   3.2. Calculate the confussion matrix\n",
    "\n",
    "   3.3. Indicate which was the metric used for seleting the best model. \n",
    "    \n",
    "    We used Recall to select the best two models\n",
    "    And even when the accuaricy seemed to be best in Random Forest, XGB was chosen based that in the confussion matrix more true possitives were detected\n",
    "\n",
    "4. Considering the precision and recall of both models, as well as the distribution of tweets in the categories, discuss how likely would be to use the selected model for classifying 1 million tweets? (4 points)\n",
    "\n",
    "    This model may not be viable for a million tweet due to the simple reason that all the predictors have to be rated by profesionals, but taking away the resource expenses, the this model could be used for classifing a million tweets, because even when you might miss some propaganda, ths might help to find some, but the model should not be used in a official scenario becaus the high level of false positives might cause other problems"
   ]
  },
  {
   "cell_type": "code",
   "execution_count": 2,
   "metadata": {},
   "outputs": [
    {
     "name": "stdout",
     "output_type": "stream",
     "text": [
      "Collecting package metadata (current_repodata.json): ...working... done\n",
      "Solving environment: ...working... done\n",
      "\n",
      "# All requested packages already installed.\n",
      "\n",
      "\n",
      "Note: you may need to restart the kernel to use updated packages.\n"
     ]
    }
   ],
   "source": [
    "conda install nbconvert"
   ]
  },
  {
   "cell_type": "code",
   "execution_count": null,
   "metadata": {},
   "outputs": [],
   "source": []
  }
 ],
 "metadata": {
  "kernelspec": {
   "display_name": "Python 3",
   "language": "python",
   "name": "python3"
  },
  "language_info": {
   "codemirror_mode": {
    "name": "ipython",
    "version": 3
   },
   "file_extension": ".py",
   "mimetype": "text/x-python",
   "name": "python",
   "nbconvert_exporter": "python",
   "pygments_lexer": "ipython3",
   "version": "3.8.5"
  }
 },
 "nbformat": 4,
 "nbformat_minor": 4
}
